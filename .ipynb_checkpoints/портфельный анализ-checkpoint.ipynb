{
 "cells": [
  {
   "cell_type": "code",
   "execution_count": 1,
   "metadata": {},
   "outputs": [],
   "source": [
    "from pandas_datareader import data\n",
    "import matplotlib.pyplot as plt\n",
    "import pandas as pd\n",
    "import numpy as np\n",
    "from sklearn.preprocessing import StandardScaler\n",
    "from sklearn.cluster import KMeans\n",
    "import FundamentalAnalysis as fa\n",
    "from datetime import datetime\n",
    "from sklearn.preprocessing import StandardScaler \n",
    "from sklearn.decomposition import PCA \n",
    "sc = StandardScaler() \n",
    "import warnings\n",
    "warnings.filterwarnings(\"ignore\")"
   ]
  },
  {
   "cell_type": "markdown",
   "metadata": {},
   "source": [
    "Задание: <br/>\n",
    "1) загрузить данные о тикерах с  yahoo.finance и fundamental analysis. <br/>\n",
    "2) сделать кластеризацию kmeans, выбрать 3 наилучших кластера. <br/>\n",
    "3) поитерироваться по 3 кластерам, выбрать наилучшую комбинацию. <br/>\n",
    "4) сделать предсказание по доходности портфеля с помощью SARIMA."
   ]
  },
  {
   "cell_type": "markdown",
   "metadata": {},
   "source": [
    "## Справочники-тесты"
   ]
  },
  {
   "cell_type": "code",
   "execution_count": 5,
   "metadata": {},
   "outputs": [],
   "source": [
    "fa_companies = pd.read_pickle(\"fa_companies.p\", compression=\"gzip\")\n",
    "fa_companies_yield = pd.read_pickle(\"fa_companies_yield.p\", compression=\"gzip\")\n",
    "fa_companies_ratios = pd.read_pickle(\"fa_companies_ratios.p\", compression=\"gzip\")"
   ]
  },
  {
   "cell_type": "code",
   "execution_count": 2,
   "metadata": {},
   "outputs": [],
   "source": [
    "best_clusters = pd.read_pickle(\"best_clusters.p\", compression=\"gzip\")"
   ]
  },
  {
   "cell_type": "markdown",
   "metadata": {},
   "source": [
    "## Загрузка данных"
   ]
  },
  {
   "cell_type": "code",
   "execution_count": 6,
   "metadata": {},
   "outputs": [],
   "source": [
    "# Функция для получения последней даты, нужно для фунд. данных по бумаге\n",
    "\n",
    "def last_available_date(dt):\n",
    "    return str(dt.year - 1) if str(dt.year)==str(datetime.now().year)\\\n",
    "                                          else str(dt.year)"
   ]
  },
  {
   "cell_type": "code",
   "execution_count": null,
   "metadata": {},
   "outputs": [],
   "source": [
    "tickers = list(fa_companies.index)"
   ]
  },
  {
   "cell_type": "code",
   "execution_count": 5,
   "metadata": {},
   "outputs": [],
   "source": [
    "start_date = '2020-03-22'\n",
    "end_date = '2020-04-22'\n",
    "\n",
    "datetime_start = datetime.strptime(start_date, '%Y-%m-%d')\n",
    "datetime_end = datetime.strptime(end_date, '%Y-%m-%d')\n",
    "year_range = list(range(int(datetime_start.year), int(datetime_end.year)))"
   ]
  },
  {
   "cell_type": "code",
   "execution_count": 27,
   "metadata": {},
   "outputs": [],
   "source": [
    "# check if we have fundamental info on tickers\n",
    "\n",
    "dfs = []\n",
    "\n",
    "for ticker in tickers:\n",
    "    try:\n",
    "        dfs.append(\n",
    "        fa.financial_ratios(ticker)[[last_available_date(datetime_end)]].\\\n",
    "        T.rename(index={last_available_date(datetime_end):ticker}))\n",
    "        \n",
    "    except:\n",
    "        continue\n",
    "\n",
    "fa_companies_ratios = pd.concat(dfs).replace(\"\", 0)\n",
    "fa_companies_ratios = fa_companies_ratios.astype(float)\n"
   ]
  },
  {
   "cell_type": "code",
   "execution_count": 29,
   "metadata": {},
   "outputs": [
    {
     "data": {
      "text/plain": [
       "(36, 57)"
      ]
     },
     "execution_count": 29,
     "metadata": {},
     "output_type": "execute_result"
    }
   ],
   "source": [
    "fa_companies_ratios.shape"
   ]
  },
  {
   "cell_type": "code",
   "execution_count": 46,
   "metadata": {},
   "outputs": [],
   "source": [
    "dfs = []\n",
    "\n",
    "for ticker in fa_companies_ratios.itertuples():\n",
    "    try:\n",
    "        df = pd.DataFrame()\n",
    "        df[\"yield\"] = np.mean(data.DataReader(ticker.Index, 'yahoo', start_date, end_date)[[\"Close\"]].pct_change()).values\n",
    "        df = df.rename(index={0: ticker.Index})\n",
    "        dfs.append(df)\n",
    "    except:\n",
    "        continue\n",
    "        \n",
    "fa_companies_yield = pd.concat(dfs)\n",
    "\n",
    "fa_companies_yield = pd.concat([fa_companies_yield, fa_companies], axis=1,join=\"inner\")\n",
    "\n",
    "\n"
   ]
  },
  {
   "cell_type": "code",
   "execution_count": 48,
   "metadata": {},
   "outputs": [
    {
     "data": {
      "text/plain": [
       "(34, 2)"
      ]
     },
     "execution_count": 48,
     "metadata": {},
     "output_type": "execute_result"
    }
   ],
   "source": [
    "fa_companies_yield.shape"
   ]
  },
  {
   "cell_type": "code",
   "execution_count": 61,
   "metadata": {},
   "outputs": [],
   "source": [
    "# чтобы оба соответствовали друг другу\n",
    "fa_companies_ratios = fa_companies_ratios.iloc[fa_companies_ratios.index.isin(fa_companies_yield.index)]"
   ]
  },
  {
   "cell_type": "markdown",
   "metadata": {},
   "source": [
    "### Мини-исследование зависимости фундаментальных данных со средним изменением"
   ]
  },
  {
   "cell_type": "code",
   "execution_count": 91,
   "metadata": {},
   "outputs": [],
   "source": [
    "X_train = sc.fit_transform(fa_companies_ratios)\n",
    "pca = PCA(n_components = 2) \n",
    "X_train = pca.fit_transform(X_train) "
   ]
  },
  {
   "cell_type": "code",
   "execution_count": 92,
   "metadata": {},
   "outputs": [],
   "source": [
    "# взаимосвязь фундаментальных данных с показателями среднего изменения котировки\n",
    "\n",
    "fa_companies_pca = pd.DataFrame()\n",
    "fa_companies_pca[\"pca_1\"] = X_train[:,0]\n",
    "fa_companies_pca[\"pca_2\"] = X_train[:,1]\n",
    "\n",
    "fa_companies_pca.index = fa_companies_ratios.index\n",
    "fa_companies_pca = pd.concat([fa_companies_pca, fa_companies_yield], axis=1,join=\"inner\")\n",
    "fa_companies_pca = fa_companies_pca.sort_values(by=\"yield\")"
   ]
  },
  {
   "cell_type": "code",
   "execution_count": 93,
   "metadata": {},
   "outputs": [
    {
     "data": {
      "text/plain": [
       "<matplotlib.axes._subplots.AxesSubplot at 0x1a24d79978>"
      ]
     },
     "execution_count": 93,
     "metadata": {},
     "output_type": "execute_result"
    },
    {
     "data": {
      "image/png": "[encoded data removed]",
      "text/plain": [
       "<Figure size 432x288 with 1 Axes>"
      ]
     },
     "metadata": {
      "needs_background": "light"
     },
     "output_type": "display_data"
    }
   ],
   "source": [
    "fa_companies_pca.plot(x='yield', y=['pca_1', \"pca_2\"], kind=\"bar\")"
   ]
  },
  {
   "cell_type": "code",
   "execution_count": 71,
   "metadata": {},
   "outputs": [
    {
     "data": {
      "text/html": [
       "<div>\n",
       "<style scoped>\n",
       "    .dataframe tbody tr th:only-of-type {\n",
       "        vertical-align: middle;\n",
       "    }\n",
       "\n",
       "    .dataframe tbody tr th {\n",
       "        vertical-align: top;\n",
       "    }\n",
       "\n",
       "    .dataframe thead th {\n",
       "        text-align: right;\n",
       "    }\n",
       "</style>\n",
       "<table border=\"1\" class=\"dataframe\">\n",
       "  <thead>\n",
       "    <tr style=\"text-align: right;\">\n",
       "      <th></th>\n",
       "      <th>pca_1</th>\n",
       "      <th>pca_2</th>\n",
       "      <th>yield</th>\n",
       "    </tr>\n",
       "  </thead>\n",
       "  <tbody>\n",
       "    <tr>\n",
       "      <th>pca_1</th>\n",
       "      <td>1.0000</td>\n",
       "      <td>-0.0000</td>\n",
       "      <td>-0.0128</td>\n",
       "    </tr>\n",
       "    <tr>\n",
       "      <th>pca_2</th>\n",
       "      <td>-0.0000</td>\n",
       "      <td>1.0000</td>\n",
       "      <td>0.1208</td>\n",
       "    </tr>\n",
       "    <tr>\n",
       "      <th>yield</th>\n",
       "      <td>-0.0128</td>\n",
       "      <td>0.1208</td>\n",
       "      <td>1.0000</td>\n",
       "    </tr>\n",
       "  </tbody>\n",
       "</table>\n",
       "</div>"
      ],
      "text/plain": [
       "        pca_1   pca_2   yield\n",
       "pca_1  1.0000 -0.0000 -0.0128\n",
       "pca_2 -0.0000  1.0000  0.1208\n",
       "yield -0.0128  0.1208  1.0000"
      ]
     },
     "execution_count": 71,
     "metadata": {},
     "output_type": "execute_result"
    }
   ],
   "source": [
    "# Явная зависимость одного из факторов со средним изменением\n",
    "round(fa_companies_pca.corr(), 4)"
   ]
  },
  {
   "cell_type": "markdown",
   "metadata": {},
   "source": [
    "## Кластеризация Kmeans и PCA"
   ]
  },
  {
   "cell_type": "markdown",
   "metadata": {},
   "source": [
    "#### Предположение: \n",
    "Успешные (положительное среднее изменение за период) компании будут в одном кластере по метрикам фундаментального анализа."
   ]
  },
  {
   "cell_type": "code",
   "execution_count": 153,
   "metadata": {},
   "outputs": [],
   "source": [
    "kmeans = KMeans(n_clusters=10, init='k-means++')\n",
    "kmeans.fit(fa_companies_pca[[\"pca_1\", \"pca_2\"]])\n",
    "y_kmeans = kmeans.predict(fa_companies_pca[[\"pca_1\", \"pca_2\"]])"
   ]
  },
  {
   "cell_type": "code",
   "execution_count": 154,
   "metadata": {},
   "outputs": [],
   "source": [
    "fa_companies_pca[\"cluster\"] = y_kmeans"
   ]
  },
  {
   "cell_type": "code",
   "execution_count": 155,
   "metadata": {},
   "outputs": [
    {
     "data": {
      "text/html": [
       "<div>\n",
       "<style scoped>\n",
       "    .dataframe tbody tr th:only-of-type {\n",
       "        vertical-align: middle;\n",
       "    }\n",
       "\n",
       "    .dataframe tbody tr th {\n",
       "        vertical-align: top;\n",
       "    }\n",
       "\n",
       "    .dataframe thead th {\n",
       "        text-align: right;\n",
       "    }\n",
       "</style>\n",
       "<table border=\"1\" class=\"dataframe\">\n",
       "  <thead>\n",
       "    <tr style=\"text-align: right;\">\n",
       "      <th></th>\n",
       "      <th>pca_1</th>\n",
       "      <th>pca_2</th>\n",
       "      <th>yield</th>\n",
       "      <th>name</th>\n",
       "      <th>cluster</th>\n",
       "    </tr>\n",
       "  </thead>\n",
       "  <tbody>\n",
       "    <tr>\n",
       "      <th>TWIN</th>\n",
       "      <td>-0.582355</td>\n",
       "      <td>-0.760355</td>\n",
       "      <td>-0.013069</td>\n",
       "      <td>Twin Disc Incorporated</td>\n",
       "      <td>1</td>\n",
       "    </tr>\n",
       "    <tr>\n",
       "      <th>SYNL</th>\n",
       "      <td>0.298162</td>\n",
       "      <td>-0.480711</td>\n",
       "      <td>-0.009613</td>\n",
       "      <td>Synalloy Corporation</td>\n",
       "      <td>3</td>\n",
       "    </tr>\n",
       "    <tr>\n",
       "      <th>CLW</th>\n",
       "      <td>-0.451410</td>\n",
       "      <td>-1.028934</td>\n",
       "      <td>-0.007056</td>\n",
       "      <td>Clearwater Paper Corporation</td>\n",
       "      <td>5</td>\n",
       "    </tr>\n",
       "    <tr>\n",
       "      <th>NTWK</th>\n",
       "      <td>0.263243</td>\n",
       "      <td>-0.577206</td>\n",
       "      <td>-0.003642</td>\n",
       "      <td>NETSOL Technologies Inc.</td>\n",
       "      <td>3</td>\n",
       "    </tr>\n",
       "    <tr>\n",
       "      <th>MGRC</th>\n",
       "      <td>0.094560</td>\n",
       "      <td>-0.983371</td>\n",
       "      <td>0.004549</td>\n",
       "      <td>McGrath RentCorp</td>\n",
       "      <td>5</td>\n",
       "    </tr>\n",
       "    <tr>\n",
       "      <th>GENC</th>\n",
       "      <td>0.452667</td>\n",
       "      <td>-0.266379</td>\n",
       "      <td>0.005324</td>\n",
       "      <td>Gencor Industries Inc.</td>\n",
       "      <td>3</td>\n",
       "    </tr>\n",
       "    <tr>\n",
       "      <th>DVA</th>\n",
       "      <td>0.101938</td>\n",
       "      <td>-1.216593</td>\n",
       "      <td>0.005415</td>\n",
       "      <td>DaVita Inc.</td>\n",
       "      <td>5</td>\n",
       "    </tr>\n",
       "    <tr>\n",
       "      <th>GLBZ</th>\n",
       "      <td>-0.756811</td>\n",
       "      <td>-1.682859</td>\n",
       "      <td>0.005425</td>\n",
       "      <td>Glen Burnie Bancorp</td>\n",
       "      <td>6</td>\n",
       "    </tr>\n",
       "    <tr>\n",
       "      <th>NAC</th>\n",
       "      <td>-0.538120</td>\n",
       "      <td>-0.603612</td>\n",
       "      <td>0.008179</td>\n",
       "      <td>Nuveen California Quality Municipal Income Fund</td>\n",
       "      <td>1</td>\n",
       "    </tr>\n",
       "    <tr>\n",
       "      <th>III</th>\n",
       "      <td>0.582948</td>\n",
       "      <td>-0.675247</td>\n",
       "      <td>0.009280</td>\n",
       "      <td>Information Services Group Inc.</td>\n",
       "      <td>3</td>\n",
       "    </tr>\n",
       "    <tr>\n",
       "      <th>ABCB</th>\n",
       "      <td>-1.682574</td>\n",
       "      <td>-0.064303</td>\n",
       "      <td>0.009298</td>\n",
       "      <td>Ameris Bancorp</td>\n",
       "      <td>8</td>\n",
       "    </tr>\n",
       "    <tr>\n",
       "      <th>ALTR</th>\n",
       "      <td>2.177553</td>\n",
       "      <td>0.166346</td>\n",
       "      <td>0.009375</td>\n",
       "      <td>Altair Engineering Inc.</td>\n",
       "      <td>9</td>\n",
       "    </tr>\n",
       "    <tr>\n",
       "      <th>MTB</th>\n",
       "      <td>-1.054226</td>\n",
       "      <td>-2.042586</td>\n",
       "      <td>0.009540</td>\n",
       "      <td>M&amp;T Bank Corporation</td>\n",
       "      <td>6</td>\n",
       "    </tr>\n",
       "    <tr>\n",
       "      <th>LIN</th>\n",
       "      <td>0.048355</td>\n",
       "      <td>-1.281464</td>\n",
       "      <td>0.009993</td>\n",
       "      <td>Linde plc</td>\n",
       "      <td>5</td>\n",
       "    </tr>\n",
       "    <tr>\n",
       "      <th>MXC</th>\n",
       "      <td>-0.703158</td>\n",
       "      <td>0.019927</td>\n",
       "      <td>0.011183</td>\n",
       "      <td>Mexco Energy Corporation</td>\n",
       "      <td>1</td>\n",
       "    </tr>\n",
       "    <tr>\n",
       "      <th>ADVM</th>\n",
       "      <td>-10.586079</td>\n",
       "      <td>11.942912</td>\n",
       "      <td>0.011717</td>\n",
       "      <td>Adverum Biotechnologies Inc.</td>\n",
       "      <td>2</td>\n",
       "    </tr>\n",
       "    <tr>\n",
       "      <th>PETS</th>\n",
       "      <td>0.669153</td>\n",
       "      <td>-1.905060</td>\n",
       "      <td>0.012283</td>\n",
       "      <td>PetMed Express Inc.</td>\n",
       "      <td>7</td>\n",
       "    </tr>\n",
       "    <tr>\n",
       "      <th>NVCR</th>\n",
       "      <td>13.944122</td>\n",
       "      <td>10.193411</td>\n",
       "      <td>0.012520</td>\n",
       "      <td>NovoCure Limited</td>\n",
       "      <td>0</td>\n",
       "    </tr>\n",
       "    <tr>\n",
       "      <th>AMH</th>\n",
       "      <td>-0.137275</td>\n",
       "      <td>-0.108269</td>\n",
       "      <td>0.013356</td>\n",
       "      <td>American Homes 4 Rent of Beneficial Interest</td>\n",
       "      <td>1</td>\n",
       "    </tr>\n",
       "    <tr>\n",
       "      <th>SLCA</th>\n",
       "      <td>-0.641269</td>\n",
       "      <td>-0.554049</td>\n",
       "      <td>0.013599</td>\n",
       "      <td>U.S. Silica Holdings Inc.</td>\n",
       "      <td>1</td>\n",
       "    </tr>\n",
       "    <tr>\n",
       "      <th>EHC</th>\n",
       "      <td>0.217666</td>\n",
       "      <td>-1.097696</td>\n",
       "      <td>0.015137</td>\n",
       "      <td>Encompass Health Corporation</td>\n",
       "      <td>5</td>\n",
       "    </tr>\n",
       "    <tr>\n",
       "      <th>SAVA</th>\n",
       "      <td>-2.349971</td>\n",
       "      <td>0.501385</td>\n",
       "      <td>0.015169</td>\n",
       "      <td>Cassava Sciences, Inc.</td>\n",
       "      <td>8</td>\n",
       "    </tr>\n",
       "    <tr>\n",
       "      <th>AVGO</th>\n",
       "      <td>0.365985</td>\n",
       "      <td>-2.600259</td>\n",
       "      <td>0.015264</td>\n",
       "      <td>Broadcom Limited</td>\n",
       "      <td>7</td>\n",
       "    </tr>\n",
       "    <tr>\n",
       "      <th>TER</th>\n",
       "      <td>1.921632</td>\n",
       "      <td>-1.866671</td>\n",
       "      <td>0.016113</td>\n",
       "      <td>Teradyne Inc.</td>\n",
       "      <td>7</td>\n",
       "    </tr>\n",
       "    <tr>\n",
       "      <th>CHSCM</th>\n",
       "      <td>-0.117467</td>\n",
       "      <td>-1.322828</td>\n",
       "      <td>0.016337</td>\n",
       "      <td>CHS Inc Class B Reset Rate Cumulative Redeemab...</td>\n",
       "      <td>5</td>\n",
       "    </tr>\n",
       "    <tr>\n",
       "      <th>UHS</th>\n",
       "      <td>-0.163195</td>\n",
       "      <td>-1.354060</td>\n",
       "      <td>0.017078</td>\n",
       "      <td>Universal Health Services Inc.</td>\n",
       "      <td>5</td>\n",
       "    </tr>\n",
       "    <tr>\n",
       "      <th>CRTO</th>\n",
       "      <td>0.116394</td>\n",
       "      <td>-1.110290</td>\n",
       "      <td>0.017466</td>\n",
       "      <td>Criteo S.A.</td>\n",
       "      <td>5</td>\n",
       "    </tr>\n",
       "    <tr>\n",
       "      <th>URI</th>\n",
       "      <td>0.636331</td>\n",
       "      <td>-2.230766</td>\n",
       "      <td>0.019412</td>\n",
       "      <td>United Rentals Inc.</td>\n",
       "      <td>7</td>\n",
       "    </tr>\n",
       "    <tr>\n",
       "      <th>ECOM</th>\n",
       "      <td>0.438424</td>\n",
       "      <td>-0.619937</td>\n",
       "      <td>0.019476</td>\n",
       "      <td>ChannelAdvisor Corporation</td>\n",
       "      <td>3</td>\n",
       "    </tr>\n",
       "    <tr>\n",
       "      <th>PLT</th>\n",
       "      <td>-0.119849</td>\n",
       "      <td>0.145444</td>\n",
       "      <td>0.020033</td>\n",
       "      <td>Plantronics Inc.</td>\n",
       "      <td>1</td>\n",
       "    </tr>\n",
       "    <tr>\n",
       "      <th>GROW</th>\n",
       "      <td>-1.442749</td>\n",
       "      <td>-0.046923</td>\n",
       "      <td>0.023204</td>\n",
       "      <td>U.S. Global Investors Inc.</td>\n",
       "      <td>8</td>\n",
       "    </tr>\n",
       "    <tr>\n",
       "      <th>AXTI</th>\n",
       "      <td>0.582545</td>\n",
       "      <td>0.069399</td>\n",
       "      <td>0.025187</td>\n",
       "      <td>AXT Inc</td>\n",
       "      <td>3</td>\n",
       "    </tr>\n",
       "    <tr>\n",
       "      <th>CLMT</th>\n",
       "      <td>0.848773</td>\n",
       "      <td>-0.958326</td>\n",
       "      <td>0.025906</td>\n",
       "      <td>Calumet Specialty Products Partners L.P.</td>\n",
       "      <td>3</td>\n",
       "    </tr>\n",
       "    <tr>\n",
       "      <th>CUE</th>\n",
       "      <td>-2.433943</td>\n",
       "      <td>4.399928</td>\n",
       "      <td>0.032538</td>\n",
       "      <td>Cue Biopharma Inc.</td>\n",
       "      <td>4</td>\n",
       "    </tr>\n",
       "  </tbody>\n",
       "</table>\n",
       "</div>"
      ],
      "text/plain": [
       "           pca_1      pca_2     yield  \\\n",
       "TWIN   -0.582355  -0.760355 -0.013069   \n",
       "SYNL    0.298162  -0.480711 -0.009613   \n",
       "CLW    -0.451410  -1.028934 -0.007056   \n",
       "NTWK    0.263243  -0.577206 -0.003642   \n",
       "MGRC    0.094560  -0.983371  0.004549   \n",
       "GENC    0.452667  -0.266379  0.005324   \n",
       "DVA     0.101938  -1.216593  0.005415   \n",
       "GLBZ   -0.756811  -1.682859  0.005425   \n",
       "NAC    -0.538120  -0.603612  0.008179   \n",
       "III     0.582948  -0.675247  0.009280   \n",
       "ABCB   -1.682574  -0.064303  0.009298   \n",
       "ALTR    2.177553   0.166346  0.009375   \n",
       "MTB    -1.054226  -2.042586  0.009540   \n",
       "LIN     0.048355  -1.281464  0.009993   \n",
       "MXC    -0.703158   0.019927  0.011183   \n",
       "ADVM  -10.586079  11.942912  0.011717   \n",
       "PETS    0.669153  -1.905060  0.012283   \n",
       "NVCR   13.944122  10.193411  0.012520   \n",
       "AMH    -0.137275  -0.108269  0.013356   \n",
       "SLCA   -0.641269  -0.554049  0.013599   \n",
       "EHC     0.217666  -1.097696  0.015137   \n",
       "SAVA   -2.349971   0.501385  0.015169   \n",
       "AVGO    0.365985  -2.600259  0.015264   \n",
       "TER     1.921632  -1.866671  0.016113   \n",
       "CHSCM  -0.117467  -1.322828  0.016337   \n",
       "UHS    -0.163195  -1.354060  0.017078   \n",
       "CRTO    0.116394  -1.110290  0.017466   \n",
       "URI     0.636331  -2.230766  0.019412   \n",
       "ECOM    0.438424  -0.619937  0.019476   \n",
       "PLT    -0.119849   0.145444  0.020033   \n",
       "GROW   -1.442749  -0.046923  0.023204   \n",
       "AXTI    0.582545   0.069399  0.025187   \n",
       "CLMT    0.848773  -0.958326  0.025906   \n",
       "CUE    -2.433943   4.399928  0.032538   \n",
       "\n",
       "                                                    name  cluster  \n",
       "TWIN                              Twin Disc Incorporated        1  \n",
       "SYNL                                Synalloy Corporation        3  \n",
       "CLW                         Clearwater Paper Corporation        5  \n",
       "NTWK                            NETSOL Technologies Inc.        3  \n",
       "MGRC                                    McGrath RentCorp        5  \n",
       "GENC                              Gencor Industries Inc.        3  \n",
       "DVA                                          DaVita Inc.        5  \n",
       "GLBZ                                 Glen Burnie Bancorp        6  \n",
       "NAC      Nuveen California Quality Municipal Income Fund        1  \n",
       "III                      Information Services Group Inc.        3  \n",
       "ABCB                                      Ameris Bancorp        8  \n",
       "ALTR                             Altair Engineering Inc.        9  \n",
       "MTB                                 M&T Bank Corporation        6  \n",
       "LIN                                            Linde plc        5  \n",
       "MXC                             Mexco Energy Corporation        1  \n",
       "ADVM                        Adverum Biotechnologies Inc.        2  \n",
       "PETS                                 PetMed Express Inc.        7  \n",
       "NVCR                                    NovoCure Limited        0  \n",
       "AMH         American Homes 4 Rent of Beneficial Interest        1  \n",
       "SLCA                           U.S. Silica Holdings Inc.        1  \n",
       "EHC                         Encompass Health Corporation        5  \n",
       "SAVA                              Cassava Sciences, Inc.        8  \n",
       "AVGO                                    Broadcom Limited        7  \n",
       "TER                                        Teradyne Inc.        7  \n",
       "CHSCM  CHS Inc Class B Reset Rate Cumulative Redeemab...        5  \n",
       "UHS                       Universal Health Services Inc.        5  \n",
       "CRTO                                         Criteo S.A.        5  \n",
       "URI                                  United Rentals Inc.        7  \n",
       "ECOM                          ChannelAdvisor Corporation        3  \n",
       "PLT                                     Plantronics Inc.        1  \n",
       "GROW                          U.S. Global Investors Inc.        8  \n",
       "AXTI                                             AXT Inc        3  \n",
       "CLMT            Calumet Specialty Products Partners L.P.        3  \n",
       "CUE                                   Cue Biopharma Inc.        4  "
      ]
     },
     "execution_count": 155,
     "metadata": {},
     "output_type": "execute_result"
    }
   ],
   "source": [
    "fa_companies_pca"
   ]
  },
  {
   "cell_type": "code",
   "execution_count": 160,
   "metadata": {
    "scrolled": true
   },
   "outputs": [
    {
     "data": {
      "text/html": [
       "<div>\n",
       "<style scoped>\n",
       "    .dataframe tbody tr th:only-of-type {\n",
       "        vertical-align: middle;\n",
       "    }\n",
       "\n",
       "    .dataframe tbody tr th {\n",
       "        vertical-align: top;\n",
       "    }\n",
       "\n",
       "    .dataframe thead th {\n",
       "        text-align: right;\n",
       "    }\n",
       "</style>\n",
       "<table border=\"1\" class=\"dataframe\">\n",
       "  <thead>\n",
       "    <tr style=\"text-align: right;\">\n",
       "      <th></th>\n",
       "      <th>pca_1</th>\n",
       "      <th>pca_2</th>\n",
       "      <th>yield</th>\n",
       "      <th>name</th>\n",
       "      <th>cluster</th>\n",
       "    </tr>\n",
       "  </thead>\n",
       "  <tbody>\n",
       "    <tr>\n",
       "      <th>ABCB</th>\n",
       "      <td>-1.682574</td>\n",
       "      <td>-0.064303</td>\n",
       "      <td>0.009298</td>\n",
       "      <td>Ameris Bancorp</td>\n",
       "      <td>8</td>\n",
       "    </tr>\n",
       "    <tr>\n",
       "      <th>PETS</th>\n",
       "      <td>0.669153</td>\n",
       "      <td>-1.905060</td>\n",
       "      <td>0.012283</td>\n",
       "      <td>PetMed Express Inc.</td>\n",
       "      <td>7</td>\n",
       "    </tr>\n",
       "    <tr>\n",
       "      <th>SAVA</th>\n",
       "      <td>-2.349971</td>\n",
       "      <td>0.501385</td>\n",
       "      <td>0.015169</td>\n",
       "      <td>Cassava Sciences, Inc.</td>\n",
       "      <td>8</td>\n",
       "    </tr>\n",
       "    <tr>\n",
       "      <th>AVGO</th>\n",
       "      <td>0.365985</td>\n",
       "      <td>-2.600259</td>\n",
       "      <td>0.015264</td>\n",
       "      <td>Broadcom Limited</td>\n",
       "      <td>7</td>\n",
       "    </tr>\n",
       "    <tr>\n",
       "      <th>TER</th>\n",
       "      <td>1.921632</td>\n",
       "      <td>-1.866671</td>\n",
       "      <td>0.016113</td>\n",
       "      <td>Teradyne Inc.</td>\n",
       "      <td>7</td>\n",
       "    </tr>\n",
       "    <tr>\n",
       "      <th>URI</th>\n",
       "      <td>0.636331</td>\n",
       "      <td>-2.230766</td>\n",
       "      <td>0.019412</td>\n",
       "      <td>United Rentals Inc.</td>\n",
       "      <td>7</td>\n",
       "    </tr>\n",
       "    <tr>\n",
       "      <th>GROW</th>\n",
       "      <td>-1.442749</td>\n",
       "      <td>-0.046923</td>\n",
       "      <td>0.023204</td>\n",
       "      <td>U.S. Global Investors Inc.</td>\n",
       "      <td>8</td>\n",
       "    </tr>\n",
       "    <tr>\n",
       "      <th>CUE</th>\n",
       "      <td>-2.433943</td>\n",
       "      <td>4.399928</td>\n",
       "      <td>0.032538</td>\n",
       "      <td>Cue Biopharma Inc.</td>\n",
       "      <td>4</td>\n",
       "    </tr>\n",
       "  </tbody>\n",
       "</table>\n",
       "</div>"
      ],
      "text/plain": [
       "         pca_1     pca_2     yield                        name  cluster\n",
       "ABCB -1.682574 -0.064303  0.009298              Ameris Bancorp        8\n",
       "PETS  0.669153 -1.905060  0.012283         PetMed Express Inc.        7\n",
       "SAVA -2.349971  0.501385  0.015169      Cassava Sciences, Inc.        8\n",
       "AVGO  0.365985 -2.600259  0.015264            Broadcom Limited        7\n",
       "TER   1.921632 -1.866671  0.016113               Teradyne Inc.        7\n",
       "URI   0.636331 -2.230766  0.019412         United Rentals Inc.        7\n",
       "GROW -1.442749 -0.046923  0.023204  U.S. Global Investors Inc.        8\n",
       "CUE  -2.433943  4.399928  0.032538          Cue Biopharma Inc.        4"
      ]
     },
     "execution_count": 160,
     "metadata": {},
     "output_type": "execute_result"
    }
   ],
   "source": [
    "best_clusters = fa_companies_pca.pivot_table(index=\"cluster\", values=\"yield\", aggfunc=\"mean\").sort_values(by=\"yield\", ascending=False)[:3].index.values\n",
    "fa_companies_pca[fa_companies_pca[\"cluster\"].isin(best_clusters)]"
   ]
  },
  {
   "cell_type": "code",
   "execution_count": 161,
   "metadata": {},
   "outputs": [],
   "source": [
    "best_clusters = fa_companies_pca[fa_companies_pca[\"cluster\"].isin(best_clusters)].drop(columns=[\"cluster\"])"
   ]
  },
  {
   "cell_type": "markdown",
   "metadata": {},
   "source": [
    "## Итеративный алгоритм"
   ]
  },
  {
   "cell_type": "markdown",
   "metadata": {},
   "source": [
    "Лучшее соотношение yield/risk"
   ]
  },
  {
   "cell_type": "code",
   "execution_count": 6,
   "metadata": {},
   "outputs": [],
   "source": [
    "#Загрузка риска\n",
    "\n",
    "dfs = []\n",
    "\n",
    "for ticker in best_clusters.itertuples():\n",
    "    df = pd.DataFrame()\n",
    "    df[\"risk\"] = np.std(data.DataReader(ticker.Index, 'yahoo', start_date, end_date)[[\"Close\"]])\n",
    "    df = df.rename(index={\"Close\": ticker.Index})\n",
    "    dfs.append(df)\n",
    "\n",
    "fa_companies_risk = pd.concat(dfs)"
   ]
  },
  {
   "cell_type": "code",
   "execution_count": 7,
   "metadata": {},
   "outputs": [],
   "source": [
    "best_clusters_yield_risk = pd.concat([fa_companies_risk, best_clusters], axis=1,join=\"inner\")\\\n",
    ".drop(columns=[\"pca_1\", \"pca_2\"])"
   ]
  },
  {
   "cell_type": "code",
   "execution_count": 8,
   "metadata": {},
   "outputs": [
    {
     "data": {
      "text/html": [
       "<div>\n",
       "<style scoped>\n",
       "    .dataframe tbody tr th:only-of-type {\n",
       "        vertical-align: middle;\n",
       "    }\n",
       "\n",
       "    .dataframe tbody tr th {\n",
       "        vertical-align: top;\n",
       "    }\n",
       "\n",
       "    .dataframe thead th {\n",
       "        text-align: right;\n",
       "    }\n",
       "</style>\n",
       "<table border=\"1\" class=\"dataframe\">\n",
       "  <thead>\n",
       "    <tr style=\"text-align: right;\">\n",
       "      <th></th>\n",
       "      <th>risk</th>\n",
       "      <th>yield</th>\n",
       "      <th>name</th>\n",
       "    </tr>\n",
       "  </thead>\n",
       "  <tbody>\n",
       "    <tr>\n",
       "      <th>ABCB</th>\n",
       "      <td>1.569421</td>\n",
       "      <td>0.009298</td>\n",
       "      <td>Ameris Bancorp</td>\n",
       "    </tr>\n",
       "    <tr>\n",
       "      <th>PETS</th>\n",
       "      <td>2.283013</td>\n",
       "      <td>0.012283</td>\n",
       "      <td>PetMed Express Inc.</td>\n",
       "    </tr>\n",
       "    <tr>\n",
       "      <th>SAVA</th>\n",
       "      <td>0.597964</td>\n",
       "      <td>0.015169</td>\n",
       "      <td>Cassava Sciences, Inc.</td>\n",
       "    </tr>\n",
       "    <tr>\n",
       "      <th>AVGO</th>\n",
       "      <td>18.745344</td>\n",
       "      <td>0.015264</td>\n",
       "      <td>Broadcom Limited</td>\n",
       "    </tr>\n",
       "    <tr>\n",
       "      <th>TER</th>\n",
       "      <td>4.775196</td>\n",
       "      <td>0.016113</td>\n",
       "      <td>Teradyne Inc.</td>\n",
       "    </tr>\n",
       "    <tr>\n",
       "      <th>URI</th>\n",
       "      <td>8.734356</td>\n",
       "      <td>0.019412</td>\n",
       "      <td>United Rentals Inc.</td>\n",
       "    </tr>\n",
       "    <tr>\n",
       "      <th>GROW</th>\n",
       "      <td>0.164784</td>\n",
       "      <td>0.023204</td>\n",
       "      <td>U.S. Global Investors Inc.</td>\n",
       "    </tr>\n",
       "    <tr>\n",
       "      <th>CUE</th>\n",
       "      <td>3.263982</td>\n",
       "      <td>0.032538</td>\n",
       "      <td>Cue Biopharma Inc.</td>\n",
       "    </tr>\n",
       "  </tbody>\n",
       "</table>\n",
       "</div>"
      ],
      "text/plain": [
       "           risk     yield                        name\n",
       "ABCB   1.569421  0.009298              Ameris Bancorp\n",
       "PETS   2.283013  0.012283         PetMed Express Inc.\n",
       "SAVA   0.597964  0.015169      Cassava Sciences, Inc.\n",
       "AVGO  18.745344  0.015264            Broadcom Limited\n",
       "TER    4.775196  0.016113               Teradyne Inc.\n",
       "URI    8.734356  0.019412         United Rentals Inc.\n",
       "GROW   0.164784  0.023204  U.S. Global Investors Inc.\n",
       "CUE    3.263982  0.032538          Cue Biopharma Inc."
      ]
     },
     "execution_count": 8,
     "metadata": {},
     "output_type": "execute_result"
    }
   ],
   "source": [
    "best_clusters_yield_risk"
   ]
  },
  {
   "cell_type": "code",
   "execution_count": 9,
   "metadata": {},
   "outputs": [
    {
     "data": {
      "text/plain": [
       "[('ABCB', 'PETS', 'SAVA'),\n",
       " ('ABCB', 'PETS', 'AVGO'),\n",
       " ('ABCB', 'PETS', 'TER'),\n",
       " ('ABCB', 'PETS', 'URI'),\n",
       " ('ABCB', 'PETS', 'GROW'),\n",
       " ('ABCB', 'PETS', 'CUE'),\n",
       " ('ABCB', 'SAVA', 'AVGO'),\n",
       " ('ABCB', 'SAVA', 'TER'),\n",
       " ('ABCB', 'SAVA', 'URI'),\n",
       " ('ABCB', 'SAVA', 'GROW'),\n",
       " ('ABCB', 'SAVA', 'CUE'),\n",
       " ('ABCB', 'AVGO', 'TER'),\n",
       " ('ABCB', 'AVGO', 'URI'),\n",
       " ('ABCB', 'AVGO', 'GROW'),\n",
       " ('ABCB', 'AVGO', 'CUE'),\n",
       " ('ABCB', 'TER', 'URI'),\n",
       " ('ABCB', 'TER', 'GROW'),\n",
       " ('ABCB', 'TER', 'CUE'),\n",
       " ('ABCB', 'URI', 'GROW'),\n",
       " ('ABCB', 'URI', 'CUE'),\n",
       " ('ABCB', 'GROW', 'CUE'),\n",
       " ('PETS', 'SAVA', 'AVGO'),\n",
       " ('PETS', 'SAVA', 'TER'),\n",
       " ('PETS', 'SAVA', 'URI'),\n",
       " ('PETS', 'SAVA', 'GROW'),\n",
       " ('PETS', 'SAVA', 'CUE'),\n",
       " ('PETS', 'AVGO', 'TER'),\n",
       " ('PETS', 'AVGO', 'URI'),\n",
       " ('PETS', 'AVGO', 'GROW'),\n",
       " ('PETS', 'AVGO', 'CUE'),\n",
       " ('PETS', 'TER', 'URI'),\n",
       " ('PETS', 'TER', 'GROW'),\n",
       " ('PETS', 'TER', 'CUE'),\n",
       " ('PETS', 'URI', 'GROW'),\n",
       " ('PETS', 'URI', 'CUE'),\n",
       " ('PETS', 'GROW', 'CUE'),\n",
       " ('SAVA', 'AVGO', 'TER'),\n",
       " ('SAVA', 'AVGO', 'URI'),\n",
       " ('SAVA', 'AVGO', 'GROW'),\n",
       " ('SAVA', 'AVGO', 'CUE'),\n",
       " ('SAVA', 'TER', 'URI'),\n",
       " ('SAVA', 'TER', 'GROW'),\n",
       " ('SAVA', 'TER', 'CUE'),\n",
       " ('SAVA', 'URI', 'GROW'),\n",
       " ('SAVA', 'URI', 'CUE'),\n",
       " ('SAVA', 'GROW', 'CUE'),\n",
       " ('AVGO', 'TER', 'URI'),\n",
       " ('AVGO', 'TER', 'GROW'),\n",
       " ('AVGO', 'TER', 'CUE'),\n",
       " ('AVGO', 'URI', 'GROW'),\n",
       " ('AVGO', 'URI', 'CUE'),\n",
       " ('AVGO', 'GROW', 'CUE'),\n",
       " ('TER', 'URI', 'GROW'),\n",
       " ('TER', 'URI', 'CUE'),\n",
       " ('TER', 'GROW', 'CUE'),\n",
       " ('URI', 'GROW', 'CUE'),\n",
       " ('ABCB', 'PETS', 'SAVA', 'AVGO'),\n",
       " ('ABCB', 'PETS', 'SAVA', 'TER'),\n",
       " ('ABCB', 'PETS', 'SAVA', 'URI'),\n",
       " ('ABCB', 'PETS', 'SAVA', 'GROW'),\n",
       " ('ABCB', 'PETS', 'SAVA', 'CUE'),\n",
       " ('ABCB', 'PETS', 'AVGO', 'TER'),\n",
       " ('ABCB', 'PETS', 'AVGO', 'URI'),\n",
       " ('ABCB', 'PETS', 'AVGO', 'GROW'),\n",
       " ('ABCB', 'PETS', 'AVGO', 'CUE'),\n",
       " ('ABCB', 'PETS', 'TER', 'URI'),\n",
       " ('ABCB', 'PETS', 'TER', 'GROW'),\n",
       " ('ABCB', 'PETS', 'TER', 'CUE'),\n",
       " ('ABCB', 'PETS', 'URI', 'GROW'),\n",
       " ('ABCB', 'PETS', 'URI', 'CUE'),\n",
       " ('ABCB', 'PETS', 'GROW', 'CUE'),\n",
       " ('ABCB', 'SAVA', 'AVGO', 'TER'),\n",
       " ('ABCB', 'SAVA', 'AVGO', 'URI'),\n",
       " ('ABCB', 'SAVA', 'AVGO', 'GROW'),\n",
       " ('ABCB', 'SAVA', 'AVGO', 'CUE'),\n",
       " ('ABCB', 'SAVA', 'TER', 'URI'),\n",
       " ('ABCB', 'SAVA', 'TER', 'GROW'),\n",
       " ('ABCB', 'SAVA', 'TER', 'CUE'),\n",
       " ('ABCB', 'SAVA', 'URI', 'GROW'),\n",
       " ('ABCB', 'SAVA', 'URI', 'CUE'),\n",
       " ('ABCB', 'SAVA', 'GROW', 'CUE'),\n",
       " ('ABCB', 'AVGO', 'TER', 'URI'),\n",
       " ('ABCB', 'AVGO', 'TER', 'GROW'),\n",
       " ('ABCB', 'AVGO', 'TER', 'CUE'),\n",
       " ('ABCB', 'AVGO', 'URI', 'GROW'),\n",
       " ('ABCB', 'AVGO', 'URI', 'CUE'),\n",
       " ('ABCB', 'AVGO', 'GROW', 'CUE'),\n",
       " ('ABCB', 'TER', 'URI', 'GROW'),\n",
       " ('ABCB', 'TER', 'URI', 'CUE'),\n",
       " ('ABCB', 'TER', 'GROW', 'CUE'),\n",
       " ('ABCB', 'URI', 'GROW', 'CUE'),\n",
       " ('PETS', 'SAVA', 'AVGO', 'TER'),\n",
       " ('PETS', 'SAVA', 'AVGO', 'URI'),\n",
       " ('PETS', 'SAVA', 'AVGO', 'GROW'),\n",
       " ('PETS', 'SAVA', 'AVGO', 'CUE'),\n",
       " ('PETS', 'SAVA', 'TER', 'URI'),\n",
       " ('PETS', 'SAVA', 'TER', 'GROW'),\n",
       " ('PETS', 'SAVA', 'TER', 'CUE'),\n",
       " ('PETS', 'SAVA', 'URI', 'GROW'),\n",
       " ('PETS', 'SAVA', 'URI', 'CUE'),\n",
       " ('PETS', 'SAVA', 'GROW', 'CUE'),\n",
       " ('PETS', 'AVGO', 'TER', 'URI'),\n",
       " ('PETS', 'AVGO', 'TER', 'GROW'),\n",
       " ('PETS', 'AVGO', 'TER', 'CUE'),\n",
       " ('PETS', 'AVGO', 'URI', 'GROW'),\n",
       " ('PETS', 'AVGO', 'URI', 'CUE'),\n",
       " ('PETS', 'AVGO', 'GROW', 'CUE'),\n",
       " ('PETS', 'TER', 'URI', 'GROW'),\n",
       " ('PETS', 'TER', 'URI', 'CUE'),\n",
       " ('PETS', 'TER', 'GROW', 'CUE'),\n",
       " ('PETS', 'URI', 'GROW', 'CUE'),\n",
       " ('SAVA', 'AVGO', 'TER', 'URI'),\n",
       " ('SAVA', 'AVGO', 'TER', 'GROW'),\n",
       " ('SAVA', 'AVGO', 'TER', 'CUE'),\n",
       " ('SAVA', 'AVGO', 'URI', 'GROW'),\n",
       " ('SAVA', 'AVGO', 'URI', 'CUE'),\n",
       " ('SAVA', 'AVGO', 'GROW', 'CUE'),\n",
       " ('SAVA', 'TER', 'URI', 'GROW'),\n",
       " ('SAVA', 'TER', 'URI', 'CUE'),\n",
       " ('SAVA', 'TER', 'GROW', 'CUE'),\n",
       " ('SAVA', 'URI', 'GROW', 'CUE'),\n",
       " ('AVGO', 'TER', 'URI', 'GROW'),\n",
       " ('AVGO', 'TER', 'URI', 'CUE'),\n",
       " ('AVGO', 'TER', 'GROW', 'CUE'),\n",
       " ('AVGO', 'URI', 'GROW', 'CUE'),\n",
       " ('TER', 'URI', 'GROW', 'CUE'),\n",
       " ('ABCB', 'PETS', 'SAVA', 'AVGO', 'TER'),\n",
       " ('ABCB', 'PETS', 'SAVA', 'AVGO', 'URI'),\n",
       " ('ABCB', 'PETS', 'SAVA', 'AVGO', 'GROW'),\n",
       " ('ABCB', 'PETS', 'SAVA', 'AVGO', 'CUE'),\n",
       " ('ABCB', 'PETS', 'SAVA', 'TER', 'URI'),\n",
       " ('ABCB', 'PETS', 'SAVA', 'TER', 'GROW'),\n",
       " ('ABCB', 'PETS', 'SAVA', 'TER', 'CUE'),\n",
       " ('ABCB', 'PETS', 'SAVA', 'URI', 'GROW'),\n",
       " ('ABCB', 'PETS', 'SAVA', 'URI', 'CUE'),\n",
       " ('ABCB', 'PETS', 'SAVA', 'GROW', 'CUE'),\n",
       " ('ABCB', 'PETS', 'AVGO', 'TER', 'URI'),\n",
       " ('ABCB', 'PETS', 'AVGO', 'TER', 'GROW'),\n",
       " ('ABCB', 'PETS', 'AVGO', 'TER', 'CUE'),\n",
       " ('ABCB', 'PETS', 'AVGO', 'URI', 'GROW'),\n",
       " ('ABCB', 'PETS', 'AVGO', 'URI', 'CUE'),\n",
       " ('ABCB', 'PETS', 'AVGO', 'GROW', 'CUE'),\n",
       " ('ABCB', 'PETS', 'TER', 'URI', 'GROW'),\n",
       " ('ABCB', 'PETS', 'TER', 'URI', 'CUE'),\n",
       " ('ABCB', 'PETS', 'TER', 'GROW', 'CUE'),\n",
       " ('ABCB', 'PETS', 'URI', 'GROW', 'CUE'),\n",
       " ('ABCB', 'SAVA', 'AVGO', 'TER', 'URI'),\n",
       " ('ABCB', 'SAVA', 'AVGO', 'TER', 'GROW'),\n",
       " ('ABCB', 'SAVA', 'AVGO', 'TER', 'CUE'),\n",
       " ('ABCB', 'SAVA', 'AVGO', 'URI', 'GROW'),\n",
       " ('ABCB', 'SAVA', 'AVGO', 'URI', 'CUE'),\n",
       " ('ABCB', 'SAVA', 'AVGO', 'GROW', 'CUE'),\n",
       " ('ABCB', 'SAVA', 'TER', 'URI', 'GROW'),\n",
       " ('ABCB', 'SAVA', 'TER', 'URI', 'CUE'),\n",
       " ('ABCB', 'SAVA', 'TER', 'GROW', 'CUE'),\n",
       " ('ABCB', 'SAVA', 'URI', 'GROW', 'CUE'),\n",
       " ('ABCB', 'AVGO', 'TER', 'URI', 'GROW'),\n",
       " ('ABCB', 'AVGO', 'TER', 'URI', 'CUE'),\n",
       " ('ABCB', 'AVGO', 'TER', 'GROW', 'CUE'),\n",
       " ('ABCB', 'AVGO', 'URI', 'GROW', 'CUE'),\n",
       " ('ABCB', 'TER', 'URI', 'GROW', 'CUE'),\n",
       " ('PETS', 'SAVA', 'AVGO', 'TER', 'URI'),\n",
       " ('PETS', 'SAVA', 'AVGO', 'TER', 'GROW'),\n",
       " ('PETS', 'SAVA', 'AVGO', 'TER', 'CUE'),\n",
       " ('PETS', 'SAVA', 'AVGO', 'URI', 'GROW'),\n",
       " ('PETS', 'SAVA', 'AVGO', 'URI', 'CUE'),\n",
       " ('PETS', 'SAVA', 'AVGO', 'GROW', 'CUE'),\n",
       " ('PETS', 'SAVA', 'TER', 'URI', 'GROW'),\n",
       " ('PETS', 'SAVA', 'TER', 'URI', 'CUE'),\n",
       " ('PETS', 'SAVA', 'TER', 'GROW', 'CUE'),\n",
       " ('PETS', 'SAVA', 'URI', 'GROW', 'CUE'),\n",
       " ('PETS', 'AVGO', 'TER', 'URI', 'GROW'),\n",
       " ('PETS', 'AVGO', 'TER', 'URI', 'CUE'),\n",
       " ('PETS', 'AVGO', 'TER', 'GROW', 'CUE'),\n",
       " ('PETS', 'AVGO', 'URI', 'GROW', 'CUE'),\n",
       " ('PETS', 'TER', 'URI', 'GROW', 'CUE'),\n",
       " ('SAVA', 'AVGO', 'TER', 'URI', 'GROW'),\n",
       " ('SAVA', 'AVGO', 'TER', 'URI', 'CUE'),\n",
       " ('SAVA', 'AVGO', 'TER', 'GROW', 'CUE'),\n",
       " ('SAVA', 'AVGO', 'URI', 'GROW', 'CUE'),\n",
       " ('SAVA', 'TER', 'URI', 'GROW', 'CUE'),\n",
       " ('AVGO', 'TER', 'URI', 'GROW', 'CUE'),\n",
       " ('ABCB', 'PETS', 'SAVA', 'AVGO', 'TER', 'URI'),\n",
       " ('ABCB', 'PETS', 'SAVA', 'AVGO', 'TER', 'GROW'),\n",
       " ('ABCB', 'PETS', 'SAVA', 'AVGO', 'TER', 'CUE'),\n",
       " ('ABCB', 'PETS', 'SAVA', 'AVGO', 'URI', 'GROW'),\n",
       " ('ABCB', 'PETS', 'SAVA', 'AVGO', 'URI', 'CUE'),\n",
       " ('ABCB', 'PETS', 'SAVA', 'AVGO', 'GROW', 'CUE'),\n",
       " ('ABCB', 'PETS', 'SAVA', 'TER', 'URI', 'GROW'),\n",
       " ('ABCB', 'PETS', 'SAVA', 'TER', 'URI', 'CUE'),\n",
       " ('ABCB', 'PETS', 'SAVA', 'TER', 'GROW', 'CUE'),\n",
       " ('ABCB', 'PETS', 'SAVA', 'URI', 'GROW', 'CUE'),\n",
       " ('ABCB', 'PETS', 'AVGO', 'TER', 'URI', 'GROW'),\n",
       " ('ABCB', 'PETS', 'AVGO', 'TER', 'URI', 'CUE'),\n",
       " ('ABCB', 'PETS', 'AVGO', 'TER', 'GROW', 'CUE'),\n",
       " ('ABCB', 'PETS', 'AVGO', 'URI', 'GROW', 'CUE'),\n",
       " ('ABCB', 'PETS', 'TER', 'URI', 'GROW', 'CUE'),\n",
       " ('ABCB', 'SAVA', 'AVGO', 'TER', 'URI', 'GROW'),\n",
       " ('ABCB', 'SAVA', 'AVGO', 'TER', 'URI', 'CUE'),\n",
       " ('ABCB', 'SAVA', 'AVGO', 'TER', 'GROW', 'CUE'),\n",
       " ('ABCB', 'SAVA', 'AVGO', 'URI', 'GROW', 'CUE'),\n",
       " ('ABCB', 'SAVA', 'TER', 'URI', 'GROW', 'CUE'),\n",
       " ('ABCB', 'AVGO', 'TER', 'URI', 'GROW', 'CUE'),\n",
       " ('PETS', 'SAVA', 'AVGO', 'TER', 'URI', 'GROW'),\n",
       " ('PETS', 'SAVA', 'AVGO', 'TER', 'URI', 'CUE'),\n",
       " ('PETS', 'SAVA', 'AVGO', 'TER', 'GROW', 'CUE'),\n",
       " ('PETS', 'SAVA', 'AVGO', 'URI', 'GROW', 'CUE'),\n",
       " ('PETS', 'SAVA', 'TER', 'URI', 'GROW', 'CUE'),\n",
       " ('PETS', 'AVGO', 'TER', 'URI', 'GROW', 'CUE'),\n",
       " ('SAVA', 'AVGO', 'TER', 'URI', 'GROW', 'CUE'),\n",
       " ('ABCB', 'PETS', 'SAVA', 'AVGO', 'TER', 'URI', 'GROW'),\n",
       " ('ABCB', 'PETS', 'SAVA', 'AVGO', 'TER', 'URI', 'CUE'),\n",
       " ('ABCB', 'PETS', 'SAVA', 'AVGO', 'TER', 'GROW', 'CUE'),\n",
       " ('ABCB', 'PETS', 'SAVA', 'AVGO', 'URI', 'GROW', 'CUE'),\n",
       " ('ABCB', 'PETS', 'SAVA', 'TER', 'URI', 'GROW', 'CUE'),\n",
       " ('ABCB', 'PETS', 'AVGO', 'TER', 'URI', 'GROW', 'CUE'),\n",
       " ('ABCB', 'SAVA', 'AVGO', 'TER', 'URI', 'GROW', 'CUE'),\n",
       " ('PETS', 'SAVA', 'AVGO', 'TER', 'URI', 'GROW', 'CUE'),\n",
       " ('ABCB', 'PETS', 'SAVA', 'AVGO', 'TER', 'URI', 'GROW', 'CUE')]"
      ]
     },
     "execution_count": 9,
     "metadata": {},
     "output_type": "execute_result"
    }
   ],
   "source": [
    "import itertools\n",
    "\n",
    "tickers = best_clusters_yield_risk.index\n",
    "\n",
    "combinations = []\n",
    "\n",
    "for L in range(3, len(tickers)+1):\n",
    "    for subset in itertools.combinations(tickers, L):\n",
    "        combinations.append(subset)\n",
    "\n",
    "combinations"
   ]
  },
  {
   "cell_type": "code",
   "execution_count": 10,
   "metadata": {},
   "outputs": [],
   "source": [
    "final_set = []\n",
    "\n",
    "for comb in combinations:\n",
    "    final_set.append(\n",
    "    [comb, best_clusters_yield_risk.loc[list(comb),\\\n",
    "            \"yield\"].mean(), best_clusters_yield_risk.loc[list(comb), \"risk\"].mean()]\n",
    "    )"
   ]
  },
  {
   "cell_type": "code",
   "execution_count": 11,
   "metadata": {},
   "outputs": [],
   "source": [
    "final_set = pd.DataFrame(final_set, columns=[\"combination\", \"yield\", \"risk\"])"
   ]
  },
  {
   "cell_type": "code",
   "execution_count": 12,
   "metadata": {},
   "outputs": [],
   "source": [
    "final_set = final_set.sort_values(['yield', 'risk'], ascending=[False, True])"
   ]
  },
  {
   "cell_type": "code",
   "execution_count": 13,
   "metadata": {},
   "outputs": [],
   "source": [
    "# Почему соотношение не всегда лучший показ-ь\n",
    "final_set[\"y/r\"] = final_set[\"yield\"]/final_set[\"risk\"]"
   ]
  },
  {
   "cell_type": "code",
   "execution_count": 14,
   "metadata": {
    "scrolled": true
   },
   "outputs": [
    {
     "data": {
      "text/html": [
       "<div>\n",
       "<style scoped>\n",
       "    .dataframe tbody tr th:only-of-type {\n",
       "        vertical-align: middle;\n",
       "    }\n",
       "\n",
       "    .dataframe tbody tr th {\n",
       "        vertical-align: top;\n",
       "    }\n",
       "\n",
       "    .dataframe thead th {\n",
       "        text-align: right;\n",
       "    }\n",
       "</style>\n",
       "<table border=\"1\" class=\"dataframe\">\n",
       "  <thead>\n",
       "    <tr style=\"text-align: right;\">\n",
       "      <th></th>\n",
       "      <th>combination</th>\n",
       "      <th>yield</th>\n",
       "      <th>risk</th>\n",
       "      <th>y/r</th>\n",
       "    </tr>\n",
       "  </thead>\n",
       "  <tbody>\n",
       "    <tr>\n",
       "      <th>55</th>\n",
       "      <td>(URI, GROW, CUE)</td>\n",
       "      <td>0.025051</td>\n",
       "      <td>4.054374</td>\n",
       "      <td>0.006179</td>\n",
       "    </tr>\n",
       "  </tbody>\n",
       "</table>\n",
       "</div>"
      ],
      "text/plain": [
       "         combination     yield      risk       y/r\n",
       "55  (URI, GROW, CUE)  0.025051  4.054374  0.006179"
      ]
     },
     "execution_count": 14,
     "metadata": {},
     "output_type": "execute_result"
    }
   ],
   "source": [
    "# Final portfolio\n",
    "\n",
    "final_set.head(1)"
   ]
  },
  {
   "cell_type": "markdown",
   "metadata": {},
   "source": [
    "## Прогноз SARIMA\n",
    "В этой работе я не занимаюсь оптимизацией портфеля, поэтому равные доли"
   ]
  },
  {
   "cell_type": "code",
   "execution_count": 29,
   "metadata": {
    "scrolled": false
   },
   "outputs": [],
   "source": [
    "portfolio = []\n",
    "\n",
    "for ticker in final_set.head(1)[\"combination\"]:\n",
    "    portfolio.append(data.DataReader(ticker, 'yahoo', \"2019-10-01\", \"2020-04-01\")[\"Close\"])\n"
   ]
  },
  {
   "cell_type": "code",
   "execution_count": 30,
   "metadata": {},
   "outputs": [],
   "source": [
    "y = pd.concat(portfolio).T.mean()"
   ]
  },
  {
   "cell_type": "code",
   "execution_count": 32,
   "metadata": {},
   "outputs": [
    {
     "name": "stdout",
     "output_type": "stream",
     "text": [
      "Examples of parameter combinations for Seasonal ARIMA...\n",
      "SARIMAX: (0, 0, 1) x (0, 0, 1, 12)\n",
      "SARIMAX: (0, 0, 1) x (0, 1, 0, 12)\n",
      "SARIMAX: (0, 1, 0) x (0, 1, 1, 12)\n",
      "SARIMAX: (0, 1, 0) x (1, 0, 0, 12)\n"
     ]
    }
   ],
   "source": [
    "p = d = q = range(0, 2)\n",
    "\n",
    "pdq = list(itertools.product(p, d, q))\n",
    "\n",
    "seasonal_pdq = [(x[0], x[1], x[2], 12) for x in list(itertools.product(p, d, q))]\n",
    "print('Examples of parameter combinations for Seasonal ARIMA...')\n",
    "print('SARIMAX: {} x {}'.format(pdq[1], seasonal_pdq[1]))\n",
    "print('SARIMAX: {} x {}'.format(pdq[1], seasonal_pdq[2]))\n",
    "print('SARIMAX: {} x {}'.format(pdq[2], seasonal_pdq[3]))\n",
    "print('SARIMAX: {} x {}'.format(pdq[2], seasonal_pdq[4]))"
   ]
  },
  {
   "cell_type": "code",
   "execution_count": 33,
   "metadata": {},
   "outputs": [
    {
     "name": "stdout",
     "output_type": "stream",
     "text": [
      "ARIMA(0, 0, 0)x(0, 0, 0, 12)12 - AIC:1355.0329477287303\n",
      "ARIMA(0, 0, 0)x(0, 0, 1, 12)12 - AIC:1110.540375497719\n",
      "ARIMA(0, 0, 0)x(0, 1, 0, 12)12 - AIC:793.3941609950865\n",
      "ARIMA(0, 0, 0)x(0, 1, 1, 12)12 - AIC:706.4644658152672\n",
      "ARIMA(0, 0, 0)x(1, 0, 0, 12)12 - AIC:798.726832202645\n",
      "ARIMA(0, 0, 0)x(1, 0, 1, 12)12 - AIC:785.7439443954765\n",
      "ARIMA(0, 0, 0)x(1, 1, 0, 12)12 - AIC:715.7797611714365\n",
      "ARIMA(0, 0, 0)x(1, 1, 1, 12)12 - AIC:709.7443693419086\n",
      "ARIMA(0, 0, 1)x(0, 0, 0, 12)12 - AIC:1179.348756666122\n",
      "ARIMA(0, 0, 1)x(0, 0, 1, 12)12 - AIC:953.4986746035023\n",
      "ARIMA(0, 0, 1)x(0, 1, 0, 12)12 - AIC:671.807339736002\n",
      "ARIMA(0, 0, 1)x(0, 1, 1, 12)12 - AIC:605.1192244097739\n",
      "ARIMA(0, 0, 1)x(1, 0, 0, 12)12 - AIC:682.7908096542446\n",
      "ARIMA(0, 0, 1)x(1, 0, 1, 12)12 - AIC:672.7838071705395\n",
      "ARIMA(0, 0, 1)x(1, 1, 0, 12)12 - AIC:616.6743425215092\n",
      "ARIMA(0, 0, 1)x(1, 1, 1, 12)12 - AIC:605.8979984045783\n",
      "ARIMA(0, 1, 0)x(0, 0, 0, 12)12 - AIC:499.75192140898196\n",
      "ARIMA(0, 1, 0)x(0, 0, 1, 12)12 - AIC:461.0250544789223\n",
      "ARIMA(0, 1, 0)x(0, 1, 0, 12)12 - AIC:525.2732262450218\n",
      "ARIMA(0, 1, 0)x(0, 1, 1, 12)12 - AIC:437.74164892415024\n",
      "ARIMA(0, 1, 0)x(1, 0, 0, 12)12 - AIC:464.2326981355073\n",
      "ARIMA(0, 1, 0)x(1, 0, 1, 12)12 - AIC:462.88465654649735\n",
      "ARIMA(0, 1, 0)x(1, 1, 0, 12)12 - AIC:448.5701902433015\n",
      "ARIMA(0, 1, 0)x(1, 1, 1, 12)12 - AIC:436.64326844342685\n",
      "ARIMA(0, 1, 1)x(0, 0, 0, 12)12 - AIC:498.72930710498366\n",
      "ARIMA(0, 1, 1)x(0, 0, 1, 12)12 - AIC:459.9179317304042\n",
      "ARIMA(0, 1, 1)x(0, 1, 0, 12)12 - AIC:522.7554899217756\n",
      "ARIMA(0, 1, 1)x(0, 1, 1, 12)12 - AIC:436.13008961158897\n",
      "ARIMA(0, 1, 1)x(1, 0, 0, 12)12 - AIC:466.2203727051006\n",
      "ARIMA(0, 1, 1)x(1, 0, 1, 12)12 - AIC:461.7767040237772\n",
      "ARIMA(0, 1, 1)x(1, 1, 0, 12)12 - AIC:449.11124588030225\n",
      "ARIMA(0, 1, 1)x(1, 1, 1, 12)12 - AIC:434.74597471527846\n",
      "ARIMA(1, 0, 0)x(0, 0, 0, 12)12 - AIC:504.9148568186474\n",
      "ARIMA(1, 0, 0)x(0, 0, 1, 12)12 - AIC:466.35119654164356\n",
      "ARIMA(1, 0, 0)x(0, 1, 0, 12)12 - AIC:528.4553488133961\n",
      "ARIMA(1, 0, 0)x(0, 1, 1, 12)12 - AIC:442.49623289146217\n",
      "ARIMA(1, 0, 0)x(1, 0, 0, 12)12 - AIC:465.92699139904835\n",
      "ARIMA(1, 0, 0)x(1, 0, 1, 12)12 - AIC:467.57481748824125\n",
      "ARIMA(1, 0, 0)x(1, 1, 0, 12)12 - AIC:449.36908045305603\n",
      "ARIMA(1, 0, 0)x(1, 1, 1, 12)12 - AIC:441.675271963621\n",
      "ARIMA(1, 0, 1)x(0, 0, 0, 12)12 - AIC:503.5633264436936\n",
      "ARIMA(1, 0, 1)x(0, 0, 1, 12)12 - AIC:465.358731666171\n",
      "ARIMA(1, 0, 1)x(0, 1, 0, 12)12 - AIC:525.0489577472181\n",
      "ARIMA(1, 0, 1)x(0, 1, 1, 12)12 - AIC:440.6486271823642\n",
      "ARIMA(1, 0, 1)x(1, 0, 0, 12)12 - AIC:467.9160752381844\n",
      "ARIMA(1, 0, 1)x(1, 0, 1, 12)12 - AIC:466.47021692021985\n",
      "ARIMA(1, 0, 1)x(1, 1, 0, 12)12 - AIC:449.6886872344883\n",
      "ARIMA(1, 0, 1)x(1, 1, 1, 12)12 - AIC:439.64088656541617\n",
      "ARIMA(1, 1, 0)x(0, 0, 0, 12)12 - AIC:501.7141787205754\n",
      "ARIMA(1, 1, 0)x(0, 0, 1, 12)12 - AIC:463.0161615702886\n",
      "ARIMA(1, 1, 0)x(0, 1, 0, 12)12 - AIC:526.4558973842478\n",
      "ARIMA(1, 1, 0)x(0, 1, 1, 12)12 - AIC:439.56709590169\n",
      "ARIMA(1, 1, 0)x(1, 0, 0, 12)12 - AIC:463.1693601672073\n",
      "ARIMA(1, 1, 0)x(1, 0, 1, 12)12 - AIC:464.87705888537147\n",
      "ARIMA(1, 1, 0)x(1, 1, 0, 12)12 - AIC:445.3641626068476\n",
      "ARIMA(1, 1, 0)x(1, 1, 1, 12)12 - AIC:438.17506290435193\n",
      "ARIMA(1, 1, 1)x(0, 0, 0, 12)12 - AIC:499.71448813604354\n",
      "ARIMA(1, 1, 1)x(0, 0, 1, 12)12 - AIC:460.72783271588867\n",
      "ARIMA(1, 1, 1)x(0, 1, 0, 12)12 - AIC:524.7030666115305\n",
      "ARIMA(1, 1, 1)x(0, 1, 1, 12)12 - AIC:435.1811216064266\n",
      "ARIMA(1, 1, 1)x(1, 0, 0, 12)12 - AIC:464.43609821321024\n",
      "ARIMA(1, 1, 1)x(1, 0, 1, 12)12 - AIC:462.6131652392305\n",
      "ARIMA(1, 1, 1)x(1, 1, 0, 12)12 - AIC:445.7927351898836\n",
      "ARIMA(1, 1, 1)x(1, 1, 1, 12)12 - AIC:436.97063552071756\n"
     ]
    }
   ],
   "source": [
    "import warnings\n",
    "import itertools\n",
    "import numpy as np\n",
    "import matplotlib.pyplot as plt\n",
    "warnings.filterwarnings(\"ignore\")\n",
    "plt.style.use('fivethirtyeight')\n",
    "import pandas as pd\n",
    "import statsmodels.api as sm\n",
    "import matplotlib\n",
    "\n",
    "for param in pdq:\n",
    "    for param_seasonal in seasonal_pdq:\n",
    "        mod = sm.tsa.statespace.SARIMAX(y, order=param,seasonal_order=param_seasonal, enforce_stationarity=False, enforce_invertibility=False)\n",
    "        try:\n",
    "            results = mod.fit()\n",
    "            print('ARIMA{}x{}12 - AIC:{}'.format(param, param_seasonal, results.aic)) \n",
    "        except:\n",
    "            continue"
   ]
  },
  {
   "cell_type": "code",
   "execution_count": 34,
   "metadata": {},
   "outputs": [
    {
     "name": "stdout",
     "output_type": "stream",
     "text": [
      "==============================================================================\n",
      "                 coef    std err          z      P>|z|      [0.025      0.975]\n",
      "------------------------------------------------------------------------------\n",
      "ar.L1         -0.6062      0.758     -0.799      0.424      -2.093       0.880\n",
      "ma.L1          0.6483      0.715      0.906      0.365      -0.753       2.050\n",
      "ar.S.L12      -0.4126      0.201     -2.057      0.040      -0.806      -0.019\n",
      "ma.S.L12      -0.5152      0.188     -2.734      0.006      -0.885      -0.146\n",
      "sigma2         4.0523      0.461      8.781      0.000       3.148       4.957\n",
      "==============================================================================\n"
     ]
    }
   ],
   "source": [
    "# (1, 1, 1)x(1, 1, 1, 12) lowest AIC\n",
    "\n",
    "mod = sm.tsa.statespace.SARIMAX(y,\n",
    "                                order=(1, 1, 1),\n",
    "                                seasonal_order=(1, 1, 1, 12),\n",
    "                                enforce_stationarity=False,\n",
    "                                enforce_invertibility=False)\n",
    "results = mod.fit()\n",
    "print(results.summary().tables[1])"
   ]
  },
  {
   "cell_type": "code",
   "execution_count": 113,
   "metadata": {},
   "outputs": [],
   "source": [
    "forecasts = pd.DataFrame()\n",
    "forecasts[\"price\"] = results.forecasts[0][1:90]\n",
    "forecasts.index = pd.date_range(y.index[-1], periods = len(results.forecasts[0][1:90])).tolist() "
   ]
  },
  {
   "cell_type": "code",
   "execution_count": 114,
   "metadata": {},
   "outputs": [
    {
     "data": {
      "text/plain": [
       "<matplotlib.axes._subplots.AxesSubplot at 0x1c27ff47b8>"
      ]
     },
     "execution_count": 114,
     "metadata": {},
     "output_type": "execute_result"
    },
    {
     "data": {
      "image/png": "[encoded data removed]",
      "text/plain": [
       "<Figure size 432x288 with 1 Axes>"
      ]
     },
     "metadata": {},
     "output_type": "display_data"
    }
   ],
   "source": [
    "forecasts.plot(y=\"price\")"
   ]
  },
  {
   "cell_type": "code",
   "execution_count": 115,
   "metadata": {},
   "outputs": [],
   "source": [
    "forecasts[\"color\"] = \"red\""
   ]
  },
  {
   "cell_type": "code",
   "execution_count": 116,
   "metadata": {},
   "outputs": [],
   "source": [
    "portfolio_perfomance = pd.DataFrame(y.copy())"
   ]
  },
  {
   "cell_type": "code",
   "execution_count": 117,
   "metadata": {},
   "outputs": [],
   "source": [
    "portfolio_perfomance.columns = [\"price\"]\n",
    "portfolio_perfomance[\"color\"] = \"blue\""
   ]
  },
  {
   "cell_type": "code",
   "execution_count": 125,
   "metadata": {},
   "outputs": [],
   "source": [
    "perfomance_with_forecasts = pd.concat([portfolio_perfomance, forecasts])"
   ]
  },
  {
   "cell_type": "code",
   "execution_count": 186,
   "metadata": {},
   "outputs": [
    {
     "data": {
      "image/png": "[encoded data removed]",
      "text/plain": [
       "<Figure size 432x288 with 1 Axes>"
      ]
     },
     "metadata": {},
     "output_type": "display_data"
    }
   ],
   "source": [
    "fig, ax = plt.subplots()\n",
    "\n",
    "data1 = perfomance_with_forecasts[perfomance_with_forecasts[\"color\"]==\"blue\"]\n",
    "data2 = data=perfomance_with_forecasts[perfomance_with_forecasts[\"color\"]==\"red\"]\n",
    "\n",
    "plt.plot(data1.index, data1[\"price\"], color=\"blue\")\n",
    "plt.plot(data2.index, data2[\"price\"], color=\"red\")\n",
    "\n",
    "fig.autofmt_xdate(bottom=0.2,\n",
    "rotation=50)\n",
    "\n",
    "plt.show()"
   ]
  },
  {
   "cell_type": "code",
   "execution_count": null,
   "metadata": {},
   "outputs": [],
   "source": []
  }
 ],
 "metadata": {
  "kernelspec": {
   "display_name": "Python 3",
   "language": "python",
   "name": "python3"
  },
  "language_info": {
   "codemirror_mode": {
    "name": "ipython",
    "version": 3
   },
   "file_extension": ".py",
   "mimetype": "text/x-python",
   "name": "python",
   "nbconvert_exporter": "python",
   "pygments_lexer": "ipython3",
   "version": "3.7.3"
  }
 },
 "nbformat": 4,
 "nbformat_minor": 2
}
